{
 "cells": [
  {
   "cell_type": "markdown",
   "id": "cab37afa",
   "metadata": {},
   "source": [
    "# Tugas 1 Predikat Lulusan EZ Banget"
   ]
  },
  {
   "cell_type": "code",
   "execution_count": 1,
   "id": "090c81b9",
   "metadata": {},
   "outputs": [
    {
     "name": "stdout",
     "output_type": "stream",
     "text": [
      "berapa semester telah ditempuh:3\n",
      "berapa ipk yang didapat:4\n",
      "Lulus dengan predikat pujian\n"
     ]
    }
   ],
   "source": [
    "try:\n",
    "    sem = int(input('berapa semester telah ditempuh:'))\n",
    "    ipk = float(input('berapa ipk yang didapat:'))\n",
    "    \n",
    "    if(ipk>4 or ipk <0):\n",
    "        ValueError(ipk)\n",
    "\n",
    "    if(ipk >3.5 and sem <= 8):\n",
    "        print(\"Lulus dengan predikat pujian\")\n",
    "    elif(ipk > 2.75 and sem <= 8) or (ipk > 3.5 and sem > 8):\n",
    "        print(\"Lulus dengan predikat sangat memuaskan\")\n",
    "    elif (ipk > 2 and sem >= 8) or (ipk > 2.75 and sem > 8) :\n",
    "        print(\"Lulus dengan predikat memuaskan\")\n",
    "    else:\n",
    "        print(\"anda lulus tanpa predikat\")\n",
    "except ValueError:\n",
    "    print(\"Masukkan yang anda masukkan salah\")\n",
    "    \n"
   ]
  },
  {
   "cell_type": "code",
   "execution_count": null,
   "id": "4fedf375",
   "metadata": {},
   "outputs": [],
   "source": []
  }
 ],
 "metadata": {
  "kernelspec": {
   "display_name": "Python 3 (ipykernel)",
   "language": "python",
   "name": "python3"
  },
  "language_info": {
   "codemirror_mode": {
    "name": "ipython",
    "version": 3
   },
   "file_extension": ".py",
   "mimetype": "text/x-python",
   "name": "python",
   "nbconvert_exporter": "python",
   "pygments_lexer": "ipython3",
   "version": "3.10.12"
  }
 },
 "nbformat": 4,
 "nbformat_minor": 5
}
