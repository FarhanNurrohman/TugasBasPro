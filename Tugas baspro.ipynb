{
 "cells": [
  {
   "cell_type": "markdown",
   "id": "8a407123",
   "metadata": {},
   "source": [
    "# Ver 1\n",
    "cumlaud jika kurang atau sama 8 sem dan ipk diatas 3.75, sangat memuaskan, memuaskan"
   ]
  },
  {
   "cell_type": "code",
   "execution_count": 13,
   "id": "043ec96a",
   "metadata": {},
   "outputs": [],
   "source": [
    "def cek_semester(sem, point):\n",
    "    if sem <= 8:\n",
    "        return point\n",
    "    else:\n",
    "        return point-1"
   ]
  },
  {
   "cell_type": "code",
   "execution_count": 14,
   "id": "7e2e17f6",
   "metadata": {},
   "outputs": [],
   "source": [
    "def cek_ipk(ipk, point):\n",
    "    if ipk >= 3.5:\n",
    "        return point\n",
    "    elif ipk >= 2.75:\n",
    "        return point-1\n",
    "    else:\n",
    "        return point-1"
   ]
  },
  {
   "cell_type": "code",
   "execution_count": 15,
   "id": "0dea7b73",
   "metadata": {},
   "outputs": [],
   "source": [
    "def cek_hasil(point):\n",
    "    if point == 3:\n",
    "        return 'Lulus dengan pujian'\n",
    "    elif point == 2:\n",
    "        return 'Lulus dengan sangat memuaskan'\n",
    "    else:\n",
    "        return 'Lulus dengan memuaskan'"
   ]
  },
  {
   "cell_type": "code",
   "execution_count": 16,
   "id": "6720a032",
   "metadata": {},
   "outputs": [
    {
     "name": "stdout",
     "output_type": "stream",
     "text": [
      "berapa semester telah ditempuh:8\n",
      "berapa ipk yang didapat:3.5\n",
      "Lulus dengan pujian\n"
     ]
    }
   ],
   "source": [
    "sem = int(input('berapa semester telah ditempuh:'))\n",
    "ipk = float(input('berapa ipk yang didapat:'))\n",
    "point = 3\n",
    "\n",
    "point = cek_semester(sem,cek_ipk(ipk, point))\n",
    "\n",
    "print(cek_hasil(point))\n",
    "\n"
   ]
  },
  {
   "cell_type": "markdown",
   "id": "499fcfa2",
   "metadata": {},
   "source": [
    "# Ver 2 "
   ]
  },
  {
   "cell_type": "code",
   "execution_count": 12,
   "id": "337663ef",
   "metadata": {},
   "outputs": [
    {
     "name": "stdout",
     "output_type": "stream",
     "text": [
      "berapa semester telah ditempuh:8\n",
      "berapa ipk yang didapat:3.5\n",
      "Lulus dengan predikat cumlaude\n"
     ]
    }
   ],
   "source": [
    "sem = int(input('berapa semester telah ditempuh:'))\n",
    "ipk = float(input('berapa ipk yang didapat:'))\n",
    "\n",
    "if(ipk >=3.5 and sem <= 8):\n",
    "    print(\"Lulus dengan predikat cumlaude\")\n",
    "elif(ipk >= 2.75 and sem <= 8) or (ipk >= 3.5 and sem > 8):\n",
    "    print(\"Lulus dengan predikat sangat memuaskan\")\n",
    "elif (ipk >= 2.75 and sem >= 8) or (ipk >= 2.0 and sem < 8) :\n",
    "    print(\"Lulus dengan predikat memuaskan\")\n",
    "else:\n",
    "    print(\"anda belum memenuhi syarat lulus\")\n"
   ]
  },
  {
   "cell_type": "code",
   "execution_count": 2,
   "id": "5ac86c2a",
   "metadata": {},
   "outputs": [
    {
     "data": {
      "text/plain": [
       "True"
      ]
     },
     "execution_count": 2,
     "metadata": {},
     "output_type": "execute_result"
    }
   ],
   "source": [
    "n =2\n",
    "1<n"
   ]
  },
  {
   "cell_type": "code",
   "execution_count": 3,
   "id": "9d32889b",
   "metadata": {},
   "outputs": [
    {
     "data": {
      "text/plain": [
       "False"
      ]
     },
     "execution_count": 3,
     "metadata": {},
     "output_type": "execute_result"
    }
   ],
   "source": [
    "3<n"
   ]
  },
  {
   "cell_type": "markdown",
   "id": "41a3518d",
   "metadata": {},
   "source": [
    "# Soal\n",
    "\n",
    "buat perulangan jika bilangan kelipatan 3 maka cetak kota\n",
    "\n",
    "bilangan kelipatan 5 maka cetak pahIawan \n",
    "\n",
    "bilangan kelipatan keduanya maka cetak kota pahIawan setelah kota pahIawan tercetak 2 kali kondisi akan dirubah 3 cetak pahIawan, 5 cetak kota \n",
    "\n",
    "bilangan yang habis dibagi 5 cetak 'pahIawan kota' pastikan sebelum mencetak pahIawan kota kata kota pahIawan telah dicetak sebanyak lebih atau sama dengan 2 kali \n",
    "\n",
    "hentikan program ketika text pahIawan kota dicetak 2 kali"
   ]
  },
  {
   "cell_type": "code",
   "execution_count": 12,
   "id": "a2b7ecb7",
   "metadata": {},
   "outputs": [
    {
     "name": "stdout",
     "output_type": "stream",
     "text": [
      "3 kota\n",
      "5 pahlawan\n",
      "6 kota\n",
      "9 kota\n",
      "10 pahlawan\n",
      "12 kota\n",
      "15 kota pahlawan\n",
      "18 kota\n",
      "20 pahlawan\n",
      "21 kota\n",
      "24 kota\n",
      "25 pahlawan\n",
      "27 kota\n",
      "30 kota pahlawan\n",
      "33 pahlawan\n",
      "35 pahlawan\n",
      "36 pahlawan\n",
      "39 pahlawan\n",
      "40 pahlawan\n",
      "42 pahlawan\n",
      "45 pahlawan pahlawan\n",
      "48 pahlawan\n",
      "50 pahlawan\n",
      "51 pahlawan\n",
      "54 pahlawan\n",
      "55 pahlawan\n",
      "57 pahlawan\n",
      "60 pahlawan pahlawan\n"
     ]
    }
   ],
   "source": [
    "a = \"kota\"\n",
    "b = \"pahlawan\"\n",
    "c = a+ \" \" +b\n",
    "i=1\n",
    "j = 0\n",
    "while True:\n",
    "    if i%3==0 and i%5==0:\n",
    "        print(f'{i} {c}')\n",
    "        j+=1\n",
    "    elif i%3==0 and i%5!=0:\n",
    "        print(f'{i} {a}')\n",
    "    elif i%3!=0 and i%5==0:\n",
    "        print(f'{i} {b}')\n",
    "        \n",
    "    if j ==2:\n",
    "        a = b\n",
    "        b = \"pahlawan\"\n",
    "        c = a+ \" \" +b\n",
    "    elif j == 4:\n",
    "        break\n",
    "    \n",
    "    i+=1"
   ]
  },
  {
   "cell_type": "code",
   "execution_count": null,
   "id": "02e1671b",
   "metadata": {},
   "outputs": [],
   "source": []
  }
 ],
 "metadata": {
  "kernelspec": {
   "display_name": "Python 3 (ipykernel)",
   "language": "python",
   "name": "python3"
  },
  "language_info": {
   "codemirror_mode": {
    "name": "ipython",
    "version": 3
   },
   "file_extension": ".py",
   "mimetype": "text/x-python",
   "name": "python",
   "nbconvert_exporter": "python",
   "pygments_lexer": "ipython3",
   "version": "3.10.12"
  }
 },
 "nbformat": 4,
 "nbformat_minor": 5
}
