{
 "cells": [
  {
   "cell_type": "markdown",
   "id": "da64fd4e",
   "metadata": {},
   "source": [
    "# Ver 1\n",
    "cumlaud jika kurang atau sama 8 sem dan ipk diatas 3.75, sangat memuaskan, memuaskan"
   ]
  },
  {
   "cell_type": "code",
   "execution_count": 5,
   "id": "538d18bc",
   "metadata": {},
   "outputs": [],
   "source": [
    "def cek_semester(sem, point):\n",
    "    if sem <= 8:\n",
    "        return point\n",
    "    else:\n",
    "        return point-1"
   ]
  },
  {
   "cell_type": "code",
   "execution_count": 6,
   "id": "bf550e72",
   "metadata": {},
   "outputs": [],
   "source": [
    "def cek_ipk(ipk, point):\n",
    "    if ipk >= 3.5:\n",
    "        return point\n",
    "    elif ipk >= 2.75:\n",
    "        return point-1\n",
    "    else:\n",
    "        return point-2"
   ]
  },
  {
   "cell_type": "code",
   "execution_count": 9,
   "id": "bae69fc6",
   "metadata": {},
   "outputs": [],
   "source": [
    "def cek_hasil(point):\n",
    "    if point == 5:\n",
    "        return 'Lulus dengan pujian'\n",
    "    elif point == 3:\n",
    "        return 'Lulus dengan sangat memuaskan'\n",
    "    else:\n",
    "        return 'Lulus dengan memuaskan'"
   ]
  },
  {
   "cell_type": "code",
   "execution_count": 11,
   "id": "3caeb861",
   "metadata": {},
   "outputs": [
    {
     "name": "stdout",
     "output_type": "stream",
     "text": [
      "berapa semester telah ditempuh:8\n",
      "berapa ipk yang didapat:3.7\n",
      "Lulus dengan pujian\n"
     ]
    }
   ],
   "source": [
    "sem = int(input('berapa semester telah ditempuh:'))\n",
    "ipk = float(input('berapa ipk yang didapat:'))\n",
    "point = 5\n",
    "\n",
    "point = cek_semester(sem,cek_ipk(ipk, point))\n",
    "\n",
    "print(cek_hasil(point))\n",
    "\n"
   ]
  },
  {
   "cell_type": "markdown",
   "id": "f2ab433e",
   "metadata": {},
   "source": [
    "# Ver 2 "
   ]
  },
  {
   "cell_type": "code",
   "execution_count": null,
   "id": "28c6087a",
   "metadata": {},
   "outputs": [],
   "source": [
    "sem = int(input('berapa semester telah ditempuh:'))\n",
    "ipk = float(input('berapa ipk yang didapat:'))\n",
    "\n",
    "if(ipk >=3.5 and sem <= 8):\n",
    "    print(\"Lulus dengan predikat cumlaude\")\n",
    "elif(ipk >= 2.75 and sem <= 8) or (ipk >= 2.75 and sem > 8):\n",
    "    print(\"Lulus dengan predikat sangat memuaskan\")\n",
    "else:\n",
    "    print(\"Lulus dengan predikat memuaskan\")\n"
   ]
  }
 ],
 "metadata": {
  "kernelspec": {
   "display_name": "Python 3 (ipykernel)",
   "language": "python",
   "name": "python3"
  },
  "language_info": {
   "codemirror_mode": {
    "name": "ipython",
    "version": 3
   },
   "file_extension": ".py",
   "mimetype": "text/x-python",
   "name": "python",
   "nbconvert_exporter": "python",
   "pygments_lexer": "ipython3",
   "version": "3.10.12"
  }
 },
 "nbformat": 4,
 "nbformat_minor": 5
}
