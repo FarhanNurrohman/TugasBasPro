{
 "cells": [
  {
   "cell_type": "markdown",
   "id": "958139d8",
   "metadata": {},
   "source": [
    "# Tugas 2 Ganjil Genap Prima EZ banget"
   ]
  },
  {
   "cell_type": "markdown",
   "id": "c52d2950",
   "metadata": {},
   "source": [
    "## versi 1"
   ]
  },
  {
   "cell_type": "code",
   "execution_count": 10,
   "id": "9228822d",
   "metadata": {},
   "outputs": [
    {
     "name": "stdout",
     "output_type": "stream",
     "text": [
      "masukkan sebuah angka: -2\n",
      "Masukkan tidak valid\n"
     ]
    }
   ],
   "source": [
    "def prima(v):\n",
    "    if v ==1 or v == 0:\n",
    "        return \"Bukan Prima\"\n",
    "    for i in range(2,v):\n",
    "        if v%i==0:\n",
    "            return \"Bukan Prima\"\n",
    "    return \"Prima\"\n",
    "\n",
    "def ganjilGenap(v):\n",
    "    if v%2==0:\n",
    "        return \"Genap\"\n",
    "    elif v%2!=0:\n",
    "        return \"Ganjil\"\n",
    "try:\n",
    "    v = int(input('masukkan sebuah angka: '))\n",
    "    if (v < 0):\n",
    "        raise ValueError()\n",
    "        \n",
    "    print(f\"{v} adalah bilangan {ganjilGenap(v)} {prima(v)}\")\n",
    "except ValueError:\n",
    "    print(\"Masukkan tidak valid\")"
   ]
  },
  {
   "cell_type": "code",
   "execution_count": null,
   "id": "16ed610f",
   "metadata": {},
   "outputs": [],
   "source": []
  }
 ],
 "metadata": {
  "kernelspec": {
   "display_name": "Python 3 (ipykernel)",
   "language": "python",
   "name": "python3"
  },
  "language_info": {
   "codemirror_mode": {
    "name": "ipython",
    "version": 3
   },
   "file_extension": ".py",
   "mimetype": "text/x-python",
   "name": "python",
   "nbconvert_exporter": "python",
   "pygments_lexer": "ipython3",
   "version": "3.10.12"
  }
 },
 "nbformat": 4,
 "nbformat_minor": 5
}
